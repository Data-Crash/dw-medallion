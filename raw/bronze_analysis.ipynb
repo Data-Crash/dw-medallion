{
 "cells": [
  {
   "cell_type": "code",
   "execution_count": 1,
   "id": "c854a68f",
   "metadata": {
    "vscode": {
     "languageId": "plaintext"
    }
   },
   "outputs": [],
   "source": [
    "from pyspark.sql import SparkSession\n",
    "from pyspark.sql.functions import *\n",
    "from pyspark.sql.types import *\n",
    "\n",
    "spark = SparkSession.builder \\\n",
    "    .appName(\"Bronze-Analysis\") \\\n",
    "    .getOrCreate()\n"
   ]
  },
  {
   "cell_type": "code",
   "execution_count": 2,
   "id": "59321839",
   "metadata": {
    "vscode": {
     "languageId": "plaintext"
    }
   },
   "outputs": [
    {
     "name": "stdout",
     "output_type": "stream",
     "text": [
      "Dados carregados\n"
     ]
    }
   ],
   "source": [
    "df_accidents = spark.read \\\n",
    "    .option(\"header\", \"true\") \\\n",
    "    .option(\"inferSchema\", \"true\") \\\n",
    "    .csv(\"../raw/Accidents0515.csv\")\n",
    "\n",
    "df_casualties = spark.read \\\n",
    "    .option(\"header\", \"true\") \\\n",
    "    .option(\"inferSchema\", \"true\") \\\n",
    "    .csv(\"../raw/Casualties0515.csv\")\n",
    "\n",
    "df_vehicles = spark.read \\\n",
    "    .option(\"header\", \"true\") \\\n",
    "    .option(\"inferSchema\", \"true\") \\\n",
    "    .csv(\"../raw/Vehicles0515.csv\")\n",
    "\n",
    "print(\"Dados carregados\")"
   ]
  },
  {
   "cell_type": "code",
   "execution_count": 3,
   "id": "1ed2b6fc",
   "metadata": {
    "vscode": {
     "languageId": "plaintext"
    }
   },
   "outputs": [
    {
     "name": "stdout",
     "output_type": "stream",
     "text": [
      "📊 RESUMO DOS DATASETS BRONZE:\n",
      "🚗 Acidentes: 1,780,653 linhas, 32 colunas\n",
      "👥 Vítimas: 2,402,909 linhas, 15 colunas\n",
      "🚙 Veículos: 3,262,270 linhas, 22 colunas\n"
     ]
    }
   ],
   "source": [
    "# CÉLULA 3 - Estatísticas Básicas\n",
    "print(\"📊 RESUMO DOS DATASETS BRONZE:\")\n",
    "print(f\"🚗 Acidentes: {df_accidents.count():,} linhas, {len(df_accidents.columns)} colunas\")\n",
    "print(f\"👥 Vítimas: {df_casualties.count():,} linhas, {len(df_casualties.columns)} colunas\")  \n",
    "print(f\"🚙 Veículos: {df_vehicles.count():,} linhas, {len(df_vehicles.columns)} colunas\")"
   ]
  },
  {
   "cell_type": "code",
   "execution_count": 4,
   "id": "3b8a8cff",
   "metadata": {
    "vscode": {
     "languageId": "plaintext"
    }
   },
   "outputs": [
    {
     "name": "stdout",
     "output_type": "stream",
     "text": [
      "🎯 AMOSTRA - Primeiros registros:\n",
      "\n",
      "--- ACIDENTES ---\n",
      "+--------------+-----------------+----------+-------------------+\n",
      "|Accident_Index|Accident_Severity|      Date|               Time|\n",
      "+--------------+-----------------+----------+-------------------+\n",
      "| 200501BS00001|                2|04/01/2005|2025-10-09 17:42:00|\n",
      "| 200501BS00002|                3|05/01/2005|2025-10-09 17:36:00|\n",
      "| 200501BS00003|                3|06/01/2005|2025-10-09 00:15:00|\n",
      "| 200501BS00004|                3|07/01/2005|2025-10-09 10:35:00|\n",
      "| 200501BS00005|                3|10/01/2005|2025-10-09 21:13:00|\n",
      "+--------------+-----------------+----------+-------------------+\n",
      "only showing top 5 rows\n",
      "\n",
      "--- VÍTIMAS ---\n",
      "+--------------+-----------------+---------------+\n",
      "|Accident_Index|Casualty_Severity|Age_of_Casualty|\n",
      "+--------------+-----------------+---------------+\n",
      "| 200501BS00001|                2|             37|\n",
      "| 200501BS00002|                3|             37|\n",
      "| 200501BS00003|                3|             62|\n",
      "| 200501BS00004|                3|             30|\n",
      "| 200501BS00005|                3|             49|\n",
      "+--------------+-----------------+---------------+\n",
      "only showing top 5 rows\n",
      "\n",
      "--- VEÍCULOS ---\n",
      "+--------------+------------+-------------+\n",
      "|Accident_Index|Vehicle_Type|Age_of_Driver|\n",
      "+--------------+------------+-------------+\n",
      "| 200501BS00001|           9|           74|\n",
      "| 200501BS00002|          11|           42|\n",
      "| 200501BS00003|          11|           35|\n",
      "| 200501BS00003|           9|           62|\n",
      "| 200501BS00004|           9|           49|\n",
      "+--------------+------------+-------------+\n",
      "only showing top 5 rows\n"
     ]
    }
   ],
   "source": [
    "print(\"🎯 AMOSTRA - Primeiros registros:\")\n",
    "print(\"\\n--- ACIDENTES ---\")\n",
    "df_accidents.select(\"Accident_Index\", \"Accident_Severity\", \"Date\", \"Time\").show(5)\n",
    "\n",
    "print(\"\\n--- VÍTIMAS ---\")\n",
    "df_casualties.select(\"Accident_Index\", \"Casualty_Severity\", \"Age_of_Casualty\").show(5)\n",
    "\n",
    "print(\"\\n--- VEÍCULOS ---\") \n",
    "df_vehicles.select(\"Accident_Index\", \"Vehicle_Type\", \"Age_of_Driver\").show(5)"
   ]
  }
 ],
 "metadata": {
  "kernelspec": {
   "display_name": "Python 3 (ipykernel)",
   "language": "python",
   "name": "python3"
  },
  "language_info": {
   "codemirror_mode": {
    "name": "ipython",
    "version": 3
   },
   "file_extension": ".py",
   "mimetype": "text/x-python",
   "name": "python",
   "nbconvert_exporter": "python",
   "pygments_lexer": "ipython3",
   "version": "3.13.7"
  }
 },
 "nbformat": 4,
 "nbformat_minor": 5
}
