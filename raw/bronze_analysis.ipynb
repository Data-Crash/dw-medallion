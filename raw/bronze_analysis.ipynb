{
 "cells": [
  {
   "cell_type": "code",
   "execution_count": 1,
   "id": "c854a68f",
   "metadata": {
    "execution": {
     "iopub.execute_input": "2025-10-11T03:49:12.160839Z",
     "iopub.status.busy": "2025-10-11T03:49:12.160562Z",
     "iopub.status.idle": "2025-10-11T03:49:21.297885Z",
     "shell.execute_reply": "2025-10-11T03:49:21.296776Z"
    }
   },
   "outputs": [
    {
     "name": "stderr",
     "output_type": "stream",
     "text": [
      "WARNING: Using incubator modules: jdk.incubator.vector\n"
     ]
    },
    {
     "name": "stderr",
     "output_type": "stream",
     "text": [
      "Using Spark's default log4j profile: org/apache/spark/log4j2-defaults.properties\n",
      "Setting default log level to \"WARN\".\n",
      "To adjust logging level use sc.setLogLevel(newLevel). For SparkR, use setLogLevel(newLevel).\n"
     ]
    },
    {
     "name": "stderr",
     "output_type": "stream",
     "text": [
      "25/10/11 03:49:17 WARN NativeCodeLoader: Unable to load native-hadoop library for your platform... using builtin-java classes where applicable\n",
      "25/10/11 03:49:17 WARN SparkConf: Note that spark.local.dir will be overridden by the value set by the cluster manager (via SPARK_LOCAL_DIRS in standalone/kubernetes and LOCAL_DIRS in YARN).\n"
     ]
    }
   ],
   "source": [
    "from pyspark.sql import SparkSession\n",
    "from pyspark.sql.functions import *\n",
    "from pyspark.sql.types import *\n",
    "\n",
    "spark = SparkSession.builder \\\n",
    "    .appName(\"Bronze-Analysis\") \\\n",
    "    .config(\"spark.local.dir\", \"/spark_temp\")\\\n",
    "    .getOrCreate()\n"
   ]
  },
  {
   "cell_type": "code",
   "execution_count": 2,
   "id": "59321839",
   "metadata": {
    "execution": {
     "iopub.execute_input": "2025-10-11T03:49:21.302753Z",
     "iopub.status.busy": "2025-10-11T03:49:21.302284Z",
     "iopub.status.idle": "2025-10-11T03:49:31.590880Z",
     "shell.execute_reply": "2025-10-11T03:49:31.589656Z"
    }
   },
   "outputs": [
    {
     "name": "stderr",
     "output_type": "stream",
     "text": [
      "\r",
      "[Stage 1:>                                                        (0 + 12) / 12]\r"
     ]
    },
    {
     "name": "stderr",
     "output_type": "stream",
     "text": [
      "\r",
      "[Stage 1:====>                                                    (1 + 11) / 12]\r"
     ]
    },
    {
     "name": "stderr",
     "output_type": "stream",
     "text": [
      "\r",
      "[Stage 1:=============================>                            (6 + 6) / 12]\r",
      "\r",
      "                                                                                \r"
     ]
    },
    {
     "name": "stderr",
     "output_type": "stream",
     "text": [
      "\r",
      "[Stage 3:>                                                        (0 + 12) / 12]\r",
      "\r",
      "[Stage 3:====>                                                    (1 + 11) / 12]\r"
     ]
    },
    {
     "name": "stderr",
     "output_type": "stream",
     "text": [
      "\r",
      "[Stage 3:=============================>                            (6 + 6) / 12]\r",
      "\r",
      "                                                                                \r"
     ]
    },
    {
     "name": "stderr",
     "output_type": "stream",
     "text": [
      "\r",
      "[Stage 5:>                                                        (0 + 12) / 12]\r"
     ]
    },
    {
     "name": "stderr",
     "output_type": "stream",
     "text": [
      "\r",
      "[Stage 5:====>                                                    (1 + 11) / 12]\r",
      "\r",
      "[Stage 5:=========>                                               (2 + 10) / 12]\r"
     ]
    },
    {
     "name": "stdout",
     "output_type": "stream",
     "text": [
      "Dados carregados\n"
     ]
    },
    {
     "name": "stderr",
     "output_type": "stream",
     "text": [
      "\r",
      "                                                                                \r"
     ]
    }
   ],
   "source": [
    "df_accidents = spark.read \\\n",
    "    .option(\"header\", \"true\") \\\n",
    "    .option(\"inferSchema\", \"true\") \\\n",
    "    .csv(\"./data/Accidents0515.csv\")\n",
    "\n",
    "df_casualties = spark.read \\\n",
    "    .option(\"header\", \"true\") \\\n",
    "    .option(\"inferSchema\", \"true\") \\\n",
    "    .csv(\"./data/Casualties0515.csv\")\n",
    "\n",
    "df_vehicles = spark.read \\\n",
    "    .option(\"header\", \"true\") \\\n",
    "    .option(\"inferSchema\", \"true\") \\\n",
    "    .csv(\"./data/Vehicles0515.csv\")\n",
    "\n",
    "print(\"Dados carregados\")"
   ]
  },
  {
   "cell_type": "code",
   "execution_count": 3,
   "id": "1ed2b6fc",
   "metadata": {
    "execution": {
     "iopub.execute_input": "2025-10-11T03:49:31.595047Z",
     "iopub.status.busy": "2025-10-11T03:49:31.594627Z",
     "iopub.status.idle": "2025-10-11T03:49:34.008652Z",
     "shell.execute_reply": "2025-10-11T03:49:34.007668Z"
    }
   },
   "outputs": [
    {
     "name": "stdout",
     "output_type": "stream",
     "text": [
      "📊 RESUMO DOS DATASETS BRONZE:\n"
     ]
    },
    {
     "name": "stderr",
     "output_type": "stream",
     "text": [
      "\r",
      "[Stage 6:>                                                        (0 + 12) / 12]\r",
      "\r",
      "[Stage 6:====>                                                    (1 + 11) / 12]\r"
     ]
    },
    {
     "name": "stderr",
     "output_type": "stream",
     "text": [
      "\r",
      "                                                                                \r"
     ]
    },
    {
     "name": "stdout",
     "output_type": "stream",
     "text": [
      "🚗 Acidentes: 1,780,653 linhas, 32 colunas\n"
     ]
    },
    {
     "name": "stdout",
     "output_type": "stream",
     "text": [
      "👥 Vítimas: 2,402,909 linhas, 15 colunas\n"
     ]
    },
    {
     "name": "stdout",
     "output_type": "stream",
     "text": [
      "🚙 Veículos: 3,262,270 linhas, 22 colunas\n"
     ]
    },
    {
     "name": "stderr",
     "output_type": "stream",
     "text": [
      "\r",
      "[Stage 12:====>                                                   (1 + 11) / 12]\r",
      "\r",
      "                                                                                \r"
     ]
    }
   ],
   "source": [
    "# CÉLULA 3 - Estatísticas Básicas\n",
    "print(\"📊 RESUMO DOS DATASETS BRONZE:\")\n",
    "print(f\"🚗 Acidentes: {df_accidents.count():,} linhas, {len(df_accidents.columns)} colunas\")\n",
    "print(f\"👥 Vítimas: {df_casualties.count():,} linhas, {len(df_casualties.columns)} colunas\")  \n",
    "print(f\"🚙 Veículos: {df_vehicles.count():,} linhas, {len(df_vehicles.columns)} colunas\")"
   ]
  },
  {
   "cell_type": "code",
   "execution_count": 4,
   "id": "3b8a8cff",
   "metadata": {
    "execution": {
     "iopub.execute_input": "2025-10-11T03:49:34.010931Z",
     "iopub.status.busy": "2025-10-11T03:49:34.010660Z",
     "iopub.status.idle": "2025-10-11T03:49:34.436712Z",
     "shell.execute_reply": "2025-10-11T03:49:34.435834Z"
    }
   },
   "outputs": [
    {
     "name": "stdout",
     "output_type": "stream",
     "text": [
      "🎯 AMOSTRA - Primeiros registros:\n",
      "\n",
      "--- ACIDENTES ---\n",
      "+--------------+-----------------+----------+-------------------+\n",
      "|Accident_Index|Accident_Severity|      Date|               Time|\n",
      "+--------------+-----------------+----------+-------------------+\n",
      "| 200501BS00001|                2|04/01/2005|2025-10-11 17:42:00|\n",
      "| 200501BS00002|                3|05/01/2005|2025-10-11 17:36:00|\n",
      "| 200501BS00003|                3|06/01/2005|2025-10-11 00:15:00|\n",
      "| 200501BS00004|                3|07/01/2005|2025-10-11 10:35:00|\n",
      "| 200501BS00005|                3|10/01/2005|2025-10-11 21:13:00|\n",
      "+--------------+-----------------+----------+-------------------+\n",
      "only showing top 5 rows\n",
      "\n",
      "--- VÍTIMAS ---\n"
     ]
    },
    {
     "name": "stdout",
     "output_type": "stream",
     "text": [
      "+--------------+-----------------+---------------+\n",
      "|Accident_Index|Casualty_Severity|Age_of_Casualty|\n",
      "+--------------+-----------------+---------------+\n",
      "| 200501BS00001|                2|             37|\n",
      "| 200501BS00002|                3|             37|\n",
      "| 200501BS00003|                3|             62|\n",
      "| 200501BS00004|                3|             30|\n",
      "| 200501BS00005|                3|             49|\n",
      "+--------------+-----------------+---------------+\n",
      "only showing top 5 rows\n",
      "\n",
      "--- VEÍCULOS ---\n",
      "+--------------+------------+-------------+\n",
      "|Accident_Index|Vehicle_Type|Age_of_Driver|\n",
      "+--------------+------------+-------------+\n",
      "| 200501BS00001|           9|           74|\n",
      "| 200501BS00002|          11|           42|\n",
      "| 200501BS00003|          11|           35|\n",
      "| 200501BS00003|           9|           62|\n",
      "| 200501BS00004|           9|           49|\n",
      "+--------------+------------+-------------+\n",
      "only showing top 5 rows\n"
     ]
    }
   ],
   "source": [
    "print(\"🎯 AMOSTRA - Primeiros registros:\")\n",
    "print(\"\\n--- ACIDENTES ---\")\n",
    "df_accidents.select(\"Accident_Index\", \"Accident_Severity\", \"Date\", \"Time\").show(5)\n",
    "\n",
    "print(\"\\n--- VÍTIMAS ---\")\n",
    "df_casualties.select(\"Accident_Index\", \"Casualty_Severity\", \"Age_of_Casualty\").show(5)\n",
    "\n",
    "print(\"\\n--- VEÍCULOS ---\") \n",
    "df_vehicles.select(\"Accident_Index\", \"Vehicle_Type\", \"Age_of_Driver\").show(5)"
   ]
  },
  {
   "cell_type": "code",
   "execution_count": 5,
   "id": "c24f6d5e",
   "metadata": {
    "execution": {
     "iopub.execute_input": "2025-10-11T03:49:34.439225Z",
     "iopub.status.busy": "2025-10-11T03:49:34.438985Z",
     "iopub.status.idle": "2025-10-11T03:49:54.740308Z",
     "shell.execute_reply": "2025-10-11T03:49:54.739364Z"
    }
   },
   "outputs": [
    {
     "name": "stderr",
     "output_type": "stream",
     "text": [
      "25/10/11 03:49:34 WARN SparkStringUtils: Truncated the string representation of a plan since it was too large. This behavior can be adjusted by setting 'spark.sql.debug.maxToStringFields'.\n"
     ]
    },
    {
     "name": "stderr",
     "output_type": "stream",
     "text": [
      "\r",
      "[Stage 18:>                                                       (0 + 12) / 12]\r",
      "25/10/11 03:49:35 WARN MemoryManager: Total allocation exceeds 95.00% (1,020,054,720 bytes) of heap memory\n",
      "Scaling row group sizes to 95.00% for 8 writers\n",
      "25/10/11 03:49:35 WARN MemoryManager: Total allocation exceeds 95.00% (1,020,054,720 bytes) of heap memory\n",
      "Scaling row group sizes to 84.44% for 9 writers\n",
      "25/10/11 03:49:35 WARN MemoryManager: Total allocation exceeds 95.00% (1,020,054,720 bytes) of heap memory\n",
      "Scaling row group sizes to 76.00% for 10 writers\n",
      "25/10/11 03:49:35 WARN MemoryManager: Total allocation exceeds 95.00% (1,020,054,720 bytes) of heap memory\n",
      "Scaling row group sizes to 69.09% for 11 writers\n",
      "25/10/11 03:49:35 WARN MemoryManager: Total allocation exceeds 95.00% (1,020,054,720 bytes) of heap memory\n",
      "Scaling row group sizes to 63.33% for 12 writers\n"
     ]
    },
    {
     "name": "stderr",
     "output_type": "stream",
     "text": [
      "25/10/11 03:49:41 WARN MemoryManager: Total allocation exceeds 95.00% (1,020,054,720 bytes) of heap memory\n",
      "Scaling row group sizes to 69.09% for 11 writers\n",
      "25/10/11 03:49:41 WARN MemoryManager: Total allocation exceeds 95.00% (1,020,054,720 bytes) of heap memory\n",
      "Scaling row group sizes to 76.00% for 10 writers\n",
      "25/10/11 03:49:41 WARN MemoryManager: Total allocation exceeds 95.00% (1,020,054,720 bytes) of heap memory\n",
      "Scaling row group sizes to 84.44% for 9 writers\n",
      "25/10/11 03:49:41 WARN MemoryManager: Total allocation exceeds 95.00% (1,020,054,720 bytes) of heap memory\n",
      "Scaling row group sizes to 95.00% for 8 writers\n",
      "\r",
      "                                                                                \r"
     ]
    },
    {
     "name": "stderr",
     "output_type": "stream",
     "text": [
      "25/10/11 03:49:44 WARN MemoryManager: Total allocation exceeds 95.00% (1,020,054,720 bytes) of heap memory\n",
      "Scaling row group sizes to 95.00% for 8 writers\n",
      "25/10/11 03:49:44 WARN MemoryManager: Total allocation exceeds 95.00% (1,020,054,720 bytes) of heap memory\n",
      "Scaling row group sizes to 84.44% for 9 writers\n",
      "25/10/11 03:49:44 WARN MemoryManager: Total allocation exceeds 95.00% (1,020,054,720 bytes) of heap memory\n",
      "Scaling row group sizes to 76.00% for 10 writers\n",
      "25/10/11 03:49:44 WARN MemoryManager: Total allocation exceeds 95.00% (1,020,054,720 bytes) of heap memory\n",
      "Scaling row group sizes to 69.09% for 11 writers\n",
      "25/10/11 03:49:44 WARN MemoryManager: Total allocation exceeds 95.00% (1,020,054,720 bytes) of heap memory\n",
      "Scaling row group sizes to 63.33% for 12 writers\n"
     ]
    },
    {
     "name": "stderr",
     "output_type": "stream",
     "text": [
      "\r",
      "[Stage 19:>                                                       (0 + 12) / 12]\r"
     ]
    },
    {
     "name": "stderr",
     "output_type": "stream",
     "text": [
      "25/10/11 03:49:46 WARN MemoryManager: Total allocation exceeds 95.00% (1,020,054,720 bytes) of heap memory\n",
      "Scaling row group sizes to 69.09% for 11 writers\n"
     ]
    },
    {
     "name": "stderr",
     "output_type": "stream",
     "text": [
      "\r",
      "[Stage 19:====>                                                   (1 + 11) / 12]\r"
     ]
    },
    {
     "name": "stderr",
     "output_type": "stream",
     "text": [
      "25/10/11 03:49:46 WARN MemoryManager: Total allocation exceeds 95.00% (1,020,054,720 bytes) of heap memory\n",
      "Scaling row group sizes to 76.00% for 10 writers\n",
      "25/10/11 03:49:46 WARN MemoryManager: Total allocation exceeds 95.00% (1,020,054,720 bytes) of heap memory\n",
      "Scaling row group sizes to 84.44% for 9 writers\n",
      "25/10/11 03:49:46 WARN MemoryManager: Total allocation exceeds 95.00% (1,020,054,720 bytes) of heap memory\n",
      "Scaling row group sizes to 95.00% for 8 writers\n",
      "\r",
      "[Stage 19:============================>                            (6 + 6) / 12]\r"
     ]
    },
    {
     "name": "stderr",
     "output_type": "stream",
     "text": [
      "\r",
      "                                                                                \r"
     ]
    },
    {
     "name": "stderr",
     "output_type": "stream",
     "text": [
      "25/10/11 03:49:49 WARN MemoryManager: Total allocation exceeds 95.00% (1,020,054,720 bytes) of heap memory\n",
      "Scaling row group sizes to 95.00% for 8 writers\n",
      "25/10/11 03:49:49 WARN MemoryManager: Total allocation exceeds 95.00% (1,020,054,720 bytes) of heap memory\n",
      "Scaling row group sizes to 84.44% for 9 writers\n",
      "25/10/11 03:49:49 WARN MemoryManager: Total allocation exceeds 95.00% (1,020,054,720 bytes) of heap memory\n",
      "Scaling row group sizes to 76.00% for 10 writers\n",
      "25/10/11 03:49:49 WARN MemoryManager: Total allocation exceeds 95.00% (1,020,054,720 bytes) of heap memory\n",
      "Scaling row group sizes to 69.09% for 11 writers\n",
      "25/10/11 03:49:49 WARN MemoryManager: Total allocation exceeds 95.00% (1,020,054,720 bytes) of heap memory\n",
      "Scaling row group sizes to 63.33% for 12 writers\n"
     ]
    },
    {
     "name": "stderr",
     "output_type": "stream",
     "text": [
      "\r",
      "[Stage 20:>                                                       (0 + 12) / 12]\r"
     ]
    },
    {
     "name": "stderr",
     "output_type": "stream",
     "text": [
      "25/10/11 03:49:52 WARN MemoryManager: Total allocation exceeds 95.00% (1,020,054,720 bytes) of heap memory\n",
      "Scaling row group sizes to 69.09% for 11 writers\n"
     ]
    },
    {
     "name": "stderr",
     "output_type": "stream",
     "text": [
      "\r",
      "[Stage 20:====>                                                   (1 + 11) / 12]\r"
     ]
    },
    {
     "name": "stderr",
     "output_type": "stream",
     "text": [
      "25/10/11 03:49:52 WARN MemoryManager: Total allocation exceeds 95.00% (1,020,054,720 bytes) of heap memory\n",
      "Scaling row group sizes to 76.00% for 10 writers\n",
      "25/10/11 03:49:52 WARN MemoryManager: Total allocation exceeds 95.00% (1,020,054,720 bytes) of heap memory\n",
      "Scaling row group sizes to 84.44% for 9 writers\n",
      "25/10/11 03:49:52 WARN MemoryManager: Total allocation exceeds 95.00% (1,020,054,720 bytes) of heap memory\n",
      "Scaling row group sizes to 95.00% for 8 writers\n"
     ]
    },
    {
     "name": "stderr",
     "output_type": "stream",
     "text": [
      "\r",
      "[Stage 20:===================>                                     (4 + 8) / 12]\r",
      "\r",
      "[Stage 20:===================================================>    (11 + 1) / 12]\r"
     ]
    },
    {
     "name": "stderr",
     "output_type": "stream",
     "text": [
      "\r",
      "                                                                                \r"
     ]
    }
   ],
   "source": [
    "df_accidents.write.mode(\"overwrite\").option(\"compression\", \"snappy\").parquet(\"./bronze/Accidents0515\")\n",
    "df_casualties.write.mode(\"overwrite\").option(\"compression\", \"snappy\").parquet(\"./bronze/Casualties0515\")\n",
    "df_vehicles.write.mode(\"overwrite\").option(\"compression\", \"snappy\").parquet(\"./bronze/Vehicles0515\")"
   ]
  }
 ],
 "metadata": {
  "kernelspec": {
   "display_name": ".venv",
   "language": "python",
   "name": "python3"
  },
  "language_info": {
   "codemirror_mode": {
    "name": "ipython",
    "version": 3
   },
   "file_extension": ".py",
   "mimetype": "text/x-python",
   "name": "python",
   "nbconvert_exporter": "python",
   "pygments_lexer": "ipython3",
   "version": "3.11.5"
  }
 },
 "nbformat": 4,
 "nbformat_minor": 5
}
