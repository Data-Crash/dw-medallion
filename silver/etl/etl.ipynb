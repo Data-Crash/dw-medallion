{
 "cells": [
  {
   "cell_type": "markdown",
   "id": "8450e908",
   "metadata": {},
   "source": [
    "### Imports"
   ]
  },
  {
   "cell_type": "code",
   "execution_count": 1,
   "id": "710952ef",
   "metadata": {
    "execution": {
     "iopub.execute_input": "2025-10-11T04:17:54.402339Z",
     "iopub.status.busy": "2025-10-11T04:17:54.402160Z",
     "iopub.status.idle": "2025-10-11T04:17:56.118464Z",
     "shell.execute_reply": "2025-10-11T04:17:56.117623Z"
    }
   },
   "outputs": [],
   "source": [
    "from pyspark.sql import SparkSession\n",
    "from pyspark.sql import functions as F\n",
    "from pyspark.sql.types import StructType, StructField, StringType, IntegerType, FloatType\n",
    "from pyspark.sql.window import Window as W\n",
    "import os\n",
    "import subprocess\n",
    "from sklearn.linear_model import LinearRegression\n",
    "import numpy as np\n",
    "import matplotlib.pyplot as plt\n",
    "\n",
    "POST_JDBC = \"/app/postgresql-42.7.8.jar\"\n",
    "FILE_TABELAS_DIR = \"/app/parquet_tables\"\n",
    "SCRATCH = \"/spark_temp\"\n",
    "\n"
   ]
  },
  {
   "cell_type": "markdown",
   "id": "6215e8b4",
   "metadata": {},
   "source": [
    "### Spark Session Configuration"
   ]
  },
  {
   "cell_type": "code",
   "execution_count": null,
   "id": "051f1266",
   "metadata": {
    "execution": {
     "iopub.execute_input": "2025-10-11T04:17:56.121133Z",
     "iopub.status.busy": "2025-10-11T04:17:56.120840Z",
     "iopub.status.idle": "2025-10-11T04:18:00.617013Z",
     "shell.execute_reply": "2025-10-11T04:18:00.616107Z"
    }
   },
   "outputs": [
    {
     "name": "stderr",
     "output_type": "stream",
     "text": [
      "WARNING: Using incubator modules: jdk.incubator.vector\n"
     ]
    },
    {
     "name": "stderr",
     "output_type": "stream",
     "text": [
      "Using Spark's default log4j profile: org/apache/spark/log4j2-defaults.properties\n",
      "Setting default log level to \"WARN\".\n",
      "To adjust logging level use sc.setLogLevel(newLevel). For SparkR, use setLogLevel(newLevel).\n"
     ]
    },
    {
     "name": "stderr",
     "output_type": "stream",
     "text": [
      "25/10/11 04:17:57 WARN NativeCodeLoader: Unable to load native-hadoop library for your platform... using builtin-java classes where applicable\n",
      "25/10/11 04:17:58 WARN SparkConf: Note that spark.local.dir will be overridden by the value set by the cluster manager (via SPARK_LOCAL_DIRS in standalone/kubernetes and LOCAL_DIRS in YARN).\n"
     ]
    }
   ],
   "source": [
    "spark = SparkSession.builder \\\n",
    "    .appName(\"DataCrash-ETL\") \\\n",
    "    .config(\"spark.driver.extraClassPath\", POST_JDBC)\\\n",
    "    .config(\"spark.executor.extraClassPath\", POST_JDBC)\\\n",
    "    .config(\"spark.sql.legacy.timeParserPolicy\", \"CORRECTED\")\\\n",
    "    .config(\"spark.local.dir\", SCRATCH)\\\n",
    "    .config(\"spark.master\", \"local[*]\")\\\n",
    "    .config(\"spark.driver.memory\", \"2g\") \\\n",
    "    .config(\"spark.worker.cleanup.enabled\", \"true\")\\\n",
    "    .config(\"spark.ui.showConsoleProgress\", \"false\") \\\n",
    "    .getOrCreate()\n",
    "\n",
    "spark.sparkContext.setLogLevel(\"ERROR\")"
   ]
  },
  {
   "cell_type": "markdown",
   "id": "08db781c",
   "metadata": {},
   "source": [
    "### Column Definitions"
   ]
  },
  {
   "cell_type": "code",
   "execution_count": 3,
   "id": "40bf7537",
   "metadata": {
    "execution": {
     "iopub.execute_input": "2025-10-11T04:18:00.619763Z",
     "iopub.status.busy": "2025-10-11T04:18:00.619476Z",
     "iopub.status.idle": "2025-10-11T04:18:00.626430Z",
     "shell.execute_reply": "2025-10-11T04:18:00.625614Z"
    },
    "jupyter": {
     "source_hidden": true
    }
   },
   "outputs": [
    {
     "name": "stdout",
     "output_type": "stream",
     "text": [
      "Column definitions loaded\n"
     ]
    }
   ],
   "source": [
    "def get_accident_columns():\n",
    "    \"\"\"Return list of columns to KEEP for accidents\"\"\"\n",
    "    return [\n",
    "        'Accident_Index', 'Longitude', 'Latitude', 'Accident_Severity',\n",
    "        'Number_of_Vehicles', 'Number_of_Casualties', 'Date', 'Day_of_Week', \n",
    "        'Time', 'Road_Type', 'Speed_limit', 'Junction_Detail', 'Junction_Control',\n",
    "        'Pedestrian_Crossing-Physical_Facilities', 'Light_Conditions', \n",
    "        'Weather_Conditions', 'Road_Surface_Conditions', 'Special_Conditions_at_Site',\n",
    "        'Carriageway_Hazards', 'Urban_or_Rural_Area'\n",
    "    ]\n",
    "\n",
    "def get_vehicle_columns():\n",
    "    \"\"\"Return list of columns to KEEP for vehicles\"\"\"\n",
    "    return [\n",
    "        'Accident_Index', 'Vehicle_Reference', 'Vehicle_Type',\n",
    "        'Vehicle_Manoeuvre', 'Vehicle_Location-Restricted_Lane',\n",
    "        'Was_Vehicle_Left_Hand_Drive?', 'Sex_of_Driver', 'Age_of_Driver',\n",
    "        'Age_Band_of_Driver', 'Propulsion_Code', 'Age_of_Vehicle'\n",
    "    ]\n",
    "\n",
    "def get_casualty_columns():\n",
    "    \"\"\"Return list of columns to KEEP for casualties\"\"\"\n",
    "    return [\n",
    "        'Accident_Index', 'Vehicle_Reference', 'Casualty_Reference',\n",
    "        'Casualty_Class', 'Sex_of_Casualty', 'Age_of_Casualty',\n",
    "        'Age_Band_of_Casualty', 'Casualty_Severity', 'Pedestrian_Movement',\n",
    "        'Car_Passenger', 'Bus_or_Coach_Passenger', 'Casualty_Type'\n",
    "    ]\n",
    "\n",
    "print(\"Column definitions loaded\")"
   ]
  },
  {
   "cell_type": "markdown",
   "id": "f10b7dff",
   "metadata": {},
   "source": [
    "### Data Loading Function"
   ]
  },
  {
   "cell_type": "code",
   "execution_count": 4,
   "id": "23690d96",
   "metadata": {
    "execution": {
     "iopub.execute_input": "2025-10-11T04:18:00.628466Z",
     "iopub.status.busy": "2025-10-11T04:18:00.628276Z",
     "iopub.status.idle": "2025-10-11T04:18:00.633027Z",
     "shell.execute_reply": "2025-10-11T04:18:00.632302Z"
    },
    "jupyter": {
     "source_hidden": true
    }
   },
   "outputs": [],
   "source": [
    "def load_and_filter_data(file_path, columns_to_keep):\n",
    "\n",
    "\n",
    "    df_complete = spark.read \\\n",
    "        .option(\"header\", \"true\") \\\n",
    "        .option(\"inferSchema\", \"true\") \\\n",
    "        .parquet(file_path)\n",
    "\n",
    "    print(f\"{file_path}: {df_complete.count():,} rows, {len(df_complete.columns)} columns\")\n",
    "    df_complete.printSchema()\n",
    "\n",
    "    \n",
    "    # Keep only specified columns\n",
    "    existing_columns = [col for col in columns_to_keep if col in df_complete.columns]\n",
    "    df_filtered = df_complete.select(existing_columns)\n",
    "    \n",
    "    print(f\"Filtered: {len(df_filtered.columns)} columns kept\")\n",
    "    df_filtered.printSchema()\n",
    "    print(f\"Sample data from {file_path}:\")\n",
    "    df_filtered.show(5, truncate=False)\n",
    "    \n",
    "    return df_filtered"
   ]
  },
  {
   "cell_type": "markdown",
   "id": "a19399da",
   "metadata": {},
   "source": [
    "### Load Datasets\n"
   ]
  },
  {
   "cell_type": "code",
   "execution_count": 5,
   "id": "d76e5211",
   "metadata": {
    "execution": {
     "iopub.execute_input": "2025-10-11T04:18:00.634842Z",
     "iopub.status.busy": "2025-10-11T04:18:00.634655Z",
     "iopub.status.idle": "2025-10-11T04:18:06.332102Z",
     "shell.execute_reply": "2025-10-11T04:18:06.331175Z"
    },
    "jupyter": {
     "source_hidden": true
    },
    "scrolled": true
   },
   "outputs": [
    {
     "name": "stdout",
     "output_type": "stream",
     "text": [
      "/raw/Accidents0515: 1,780,653 rows, 32 columns\n",
      "root\n",
      " |-- Accident_Index: string (nullable = true)\n",
      " |-- Location_Easting_OSGR: integer (nullable = true)\n",
      " |-- Location_Northing_OSGR: integer (nullable = true)\n",
      " |-- Longitude: double (nullable = true)\n",
      " |-- Latitude: double (nullable = true)\n",
      " |-- Police_Force: integer (nullable = true)\n",
      " |-- Accident_Severity: integer (nullable = true)\n",
      " |-- Number_of_Vehicles: integer (nullable = true)\n",
      " |-- Number_of_Casualties: integer (nullable = true)\n",
      " |-- Date: string (nullable = true)\n",
      " |-- Day_of_Week: integer (nullable = true)\n",
      " |-- Time: timestamp (nullable = true)\n",
      " |-- Local_Authority_(District): integer (nullable = true)\n",
      " |-- Local_Authority_(Highway): string (nullable = true)\n",
      " |-- 1st_Road_Class: integer (nullable = true)\n",
      " |-- 1st_Road_Number: integer (nullable = true)\n",
      " |-- Road_Type: integer (nullable = true)\n",
      " |-- Speed_limit: integer (nullable = true)\n",
      " |-- Junction_Detail: integer (nullable = true)\n",
      " |-- Junction_Control: integer (nullable = true)\n",
      " |-- 2nd_Road_Class: integer (nullable = true)\n",
      " |-- 2nd_Road_Number: integer (nullable = true)\n",
      " |-- Pedestrian_Crossing-Human_Control: integer (nullable = true)\n",
      " |-- Pedestrian_Crossing-Physical_Facilities: integer (nullable = true)\n",
      " |-- Light_Conditions: integer (nullable = true)\n",
      " |-- Weather_Conditions: integer (nullable = true)\n",
      " |-- Road_Surface_Conditions: integer (nullable = true)\n",
      " |-- Special_Conditions_at_Site: integer (nullable = true)\n",
      " |-- Carriageway_Hazards: integer (nullable = true)\n",
      " |-- Urban_or_Rural_Area: integer (nullable = true)\n",
      " |-- Did_Police_Officer_Attend_Scene_of_Accident: integer (nullable = true)\n",
      " |-- LSOA_of_Accident_Location: string (nullable = true)\n",
      "\n",
      "Filtered: 20 columns kept\n",
      "root\n",
      " |-- Accident_Index: string (nullable = true)\n",
      " |-- Longitude: double (nullable = true)\n",
      " |-- Latitude: double (nullable = true)\n",
      " |-- Accident_Severity: integer (nullable = true)\n",
      " |-- Number_of_Vehicles: integer (nullable = true)\n",
      " |-- Number_of_Casualties: integer (nullable = true)\n",
      " |-- Date: string (nullable = true)\n",
      " |-- Day_of_Week: integer (nullable = true)\n",
      " |-- Time: timestamp (nullable = true)\n",
      " |-- Road_Type: integer (nullable = true)\n",
      " |-- Speed_limit: integer (nullable = true)\n",
      " |-- Junction_Detail: integer (nullable = true)\n",
      " |-- Junction_Control: integer (nullable = true)\n",
      " |-- Pedestrian_Crossing-Physical_Facilities: integer (nullable = true)\n",
      " |-- Light_Conditions: integer (nullable = true)\n",
      " |-- Weather_Conditions: integer (nullable = true)\n",
      " |-- Road_Surface_Conditions: integer (nullable = true)\n",
      " |-- Special_Conditions_at_Site: integer (nullable = true)\n",
      " |-- Carriageway_Hazards: integer (nullable = true)\n",
      " |-- Urban_or_Rural_Area: integer (nullable = true)\n",
      "\n",
      "Sample data from /raw/Accidents0515:\n"
     ]
    },
    {
     "name": "stdout",
     "output_type": "stream",
     "text": [
      "+--------------+---------+---------+-----------------+------------------+--------------------+----------+-----------+-------------------+---------+-----------+---------------+----------------+---------------------------------------+----------------+------------------+-----------------------+--------------------------+-------------------+-------------------+\n",
      "|Accident_Index|Longitude|Latitude |Accident_Severity|Number_of_Vehicles|Number_of_Casualties|Date      |Day_of_Week|Time               |Road_Type|Speed_limit|Junction_Detail|Junction_Control|Pedestrian_Crossing-Physical_Facilities|Light_Conditions|Weather_Conditions|Road_Surface_Conditions|Special_Conditions_at_Site|Carriageway_Hazards|Urban_or_Rural_Area|\n",
      "+--------------+---------+---------+-----------------+------------------+--------------------+----------+-----------+-------------------+---------+-----------+---------------+----------------+---------------------------------------+----------------+------------------+-----------------------+--------------------------+-------------------+-------------------+\n",
      "|201301EK40520 |-0.177694|51.545271|3                |2                 |1                   |09/08/2013|6          |2025-10-11 11:00:00|3        |30         |3              |4               |4                                      |1               |1                 |1                      |0                         |0                  |1                  |\n",
      "|201301EK40521 |-0.158197|51.55306 |3                |3                 |1                   |10/08/2013|7          |2025-10-11 14:30:00|6        |30         |6              |2               |5                                      |1               |1                 |1                      |0                         |0                  |1                  |\n",
      "|201301EK40522 |-0.175247|51.541546|3                |2                 |1                   |12/08/2013|2          |2025-10-11 19:40:00|6        |30         |6              |2               |5                                      |1               |1                 |1                      |0                         |0                  |1                  |\n",
      "|201301EK40523 |-0.137468|51.523776|3                |2                 |1                   |21/08/2013|4          |2025-10-11 00:29:00|6        |30         |0              |-1              |0                                      |4               |1                 |1                      |0                         |0                  |1                  |\n",
      "|201301EK40525 |-0.135465|51.523385|2                |2                 |1                   |02/08/2013|6          |2025-10-11 11:00:00|6        |30         |3              |4               |0                                      |1               |1                 |1                      |0                         |0                  |1                  |\n",
      "+--------------+---------+---------+-----------------+------------------+--------------------+----------+-----------+-------------------+---------+-----------+---------------+----------------+---------------------------------------+----------------+------------------+-----------------------+--------------------------+-------------------+-------------------+\n",
      "only showing top 5 rows\n"
     ]
    },
    {
     "name": "stdout",
     "output_type": "stream",
     "text": [
      "/raw/Vehicles0515: 3,262,270 rows, 22 columns\n",
      "root\n",
      " |-- Accident_Index: string (nullable = true)\n",
      " |-- Vehicle_Reference: integer (nullable = true)\n",
      " |-- Vehicle_Type: integer (nullable = true)\n",
      " |-- Towing_and_Articulation: integer (nullable = true)\n",
      " |-- Vehicle_Manoeuvre: integer (nullable = true)\n",
      " |-- Vehicle_Location-Restricted_Lane: integer (nullable = true)\n",
      " |-- Junction_Location: integer (nullable = true)\n",
      " |-- Skidding_and_Overturning: integer (nullable = true)\n",
      " |-- Hit_Object_in_Carriageway: integer (nullable = true)\n",
      " |-- Vehicle_Leaving_Carriageway: integer (nullable = true)\n",
      " |-- Hit_Object_off_Carriageway: integer (nullable = true)\n",
      " |-- 1st_Point_of_Impact: integer (nullable = true)\n",
      " |-- Was_Vehicle_Left_Hand_Drive?: integer (nullable = true)\n",
      " |-- Journey_Purpose_of_Driver: integer (nullable = true)\n",
      " |-- Sex_of_Driver: integer (nullable = true)\n",
      " |-- Age_of_Driver: integer (nullable = true)\n",
      " |-- Age_Band_of_Driver: integer (nullable = true)\n",
      " |-- Engine_Capacity_(CC): integer (nullable = true)\n",
      " |-- Propulsion_Code: integer (nullable = true)\n",
      " |-- Age_of_Vehicle: integer (nullable = true)\n",
      " |-- Driver_IMD_Decile: integer (nullable = true)\n",
      " |-- Driver_Home_Area_Type: integer (nullable = true)\n",
      "\n",
      "Filtered: 11 columns kept\n",
      "root\n",
      " |-- Accident_Index: string (nullable = true)\n",
      " |-- Vehicle_Reference: integer (nullable = true)\n",
      " |-- Vehicle_Type: integer (nullable = true)\n",
      " |-- Vehicle_Manoeuvre: integer (nullable = true)\n",
      " |-- Vehicle_Location-Restricted_Lane: integer (nullable = true)\n",
      " |-- Was_Vehicle_Left_Hand_Drive?: integer (nullable = true)\n",
      " |-- Sex_of_Driver: integer (nullable = true)\n",
      " |-- Age_of_Driver: integer (nullable = true)\n",
      " |-- Age_Band_of_Driver: integer (nullable = true)\n",
      " |-- Propulsion_Code: integer (nullable = true)\n",
      " |-- Age_of_Vehicle: integer (nullable = true)\n",
      "\n",
      "Sample data from /raw/Vehicles0515:\n"
     ]
    },
    {
     "name": "stdout",
     "output_type": "stream",
     "text": [
      "+--------------+-----------------+------------+-----------------+--------------------------------+----------------------------+-------------+-------------+------------------+---------------+--------------+\n",
      "|Accident_Index|Vehicle_Reference|Vehicle_Type|Vehicle_Manoeuvre|Vehicle_Location-Restricted_Lane|Was_Vehicle_Left_Hand_Drive?|Sex_of_Driver|Age_of_Driver|Age_Band_of_Driver|Propulsion_Code|Age_of_Vehicle|\n",
      "+--------------+-----------------+------------+-----------------+--------------------------------+----------------------------+-------------+-------------+------------------+---------------+--------------+\n",
      "|201101BS70342 |1                |9           |2                |0                               |1                           |2            |-1           |-1                |1              |6             |\n",
      "|201101BS70342 |2                |1           |18               |0                               |1                           |2            |25           |5                 |-1             |-1            |\n",
      "|201101BS70343 |1                |5           |18               |0                               |1                           |1            |51           |8                 |1              |7             |\n",
      "|201101BS70343 |2                |9           |9                |0                               |1                           |2            |33           |6                 |2              |1             |\n",
      "|201101BS70344 |1                |9           |18               |0                               |1                           |1            |-1           |-1                |-1             |-1            |\n",
      "+--------------+-----------------+------------+-----------------+--------------------------------+----------------------------+-------------+-------------+------------------+---------------+--------------+\n",
      "only showing top 5 rows\n"
     ]
    },
    {
     "name": "stdout",
     "output_type": "stream",
     "text": [
      "/raw/Casualties0515: 2,402,909 rows, 15 columns\n",
      "root\n",
      " |-- Accident_Index: string (nullable = true)\n",
      " |-- Vehicle_Reference: integer (nullable = true)\n",
      " |-- Casualty_Reference: integer (nullable = true)\n",
      " |-- Casualty_Class: integer (nullable = true)\n",
      " |-- Sex_of_Casualty: integer (nullable = true)\n",
      " |-- Age_of_Casualty: integer (nullable = true)\n",
      " |-- Age_Band_of_Casualty: integer (nullable = true)\n",
      " |-- Casualty_Severity: integer (nullable = true)\n",
      " |-- Pedestrian_Location: integer (nullable = true)\n",
      " |-- Pedestrian_Movement: integer (nullable = true)\n",
      " |-- Car_Passenger: integer (nullable = true)\n",
      " |-- Bus_or_Coach_Passenger: integer (nullable = true)\n",
      " |-- Pedestrian_Road_Maintenance_Worker: integer (nullable = true)\n",
      " |-- Casualty_Type: integer (nullable = true)\n",
      " |-- Casualty_Home_Area_Type: integer (nullable = true)\n",
      "\n",
      "Filtered: 12 columns kept\n",
      "root\n",
      " |-- Accident_Index: string (nullable = true)\n",
      " |-- Vehicle_Reference: integer (nullable = true)\n",
      " |-- Casualty_Reference: integer (nullable = true)\n",
      " |-- Casualty_Class: integer (nullable = true)\n",
      " |-- Sex_of_Casualty: integer (nullable = true)\n",
      " |-- Age_of_Casualty: integer (nullable = true)\n",
      " |-- Age_Band_of_Casualty: integer (nullable = true)\n",
      " |-- Casualty_Severity: integer (nullable = true)\n",
      " |-- Pedestrian_Movement: integer (nullable = true)\n",
      " |-- Car_Passenger: integer (nullable = true)\n",
      " |-- Bus_or_Coach_Passenger: integer (nullable = true)\n",
      " |-- Casualty_Type: integer (nullable = true)\n",
      "\n",
      "Sample data from /raw/Casualties0515:\n"
     ]
    },
    {
     "name": "stdout",
     "output_type": "stream",
     "text": [
      "+--------------+-----------------+------------------+--------------+---------------+---------------+--------------------+-----------------+-------------------+-------------+----------------------+-------------+\n",
      "|Accident_Index|Vehicle_Reference|Casualty_Reference|Casualty_Class|Sex_of_Casualty|Age_of_Casualty|Age_Band_of_Casualty|Casualty_Severity|Pedestrian_Movement|Car_Passenger|Bus_or_Coach_Passenger|Casualty_Type|\n",
      "+--------------+-----------------+------------------+--------------+---------------+---------------+--------------------+-----------------+-------------------+-------------+----------------------+-------------+\n",
      "|201304FB13047 |1                |3                 |2             |1              |16             |4                   |3                |0                  |2            |0                     |9            |\n",
      "|201304FB13047 |1                |4                 |2             |1              |16             |4                   |3                |0                  |2            |0                     |9            |\n",
      "|201304FB13048 |1                |1                 |3             |1              |21             |5                   |3                |1                  |0            |0                     |0            |\n",
      "|201304FB13049 |2                |1                 |2             |2              |61             |9                   |3                |0                  |1            |0                     |9            |\n",
      "|201304FB13050 |1                |1                 |3             |1              |54             |8                   |3                |5                  |0            |0                     |0            |\n",
      "+--------------+-----------------+------------------+--------------+---------------+---------------+--------------------+-----------------+-------------------+-------------+----------------------+-------------+\n",
      "only showing top 5 rows\n",
      "✅ All datasets loaded successfully\n"
     ]
    }
   ],
   "source": [
    "df_accidents = load_and_filter_data(\n",
    "    \"/raw/Accidents0515\",\n",
    "    get_accident_columns()\n",
    ")\n",
    "\n",
    "# Load vehicles\n",
    "df_vehicles = load_and_filter_data(\n",
    "    \"/raw/Vehicles0515\", \n",
    "    get_vehicle_columns()\n",
    ")\n",
    "\n",
    "# Load casualties\n",
    "df_casualties = load_and_filter_data(\n",
    "    \"/raw/Casualties0515\",\n",
    "    get_casualty_columns()\n",
    ")\n",
    "\n",
    "print(\"✅ All datasets loaded successfully\")"
   ]
  },
  {
   "cell_type": "markdown",
   "id": "245f4aab",
   "metadata": {},
   "source": [
    "### Data Quality"
   ]
  },
  {
   "cell_type": "code",
   "execution_count": 6,
   "id": "2f7c2ee8-cb5a-4db0-bff3-15a7a8c455fc",
   "metadata": {
    "execution": {
     "iopub.execute_input": "2025-10-11T04:18:06.334684Z",
     "iopub.status.busy": "2025-10-11T04:18:06.334440Z",
     "iopub.status.idle": "2025-10-11T04:18:21.100476Z",
     "shell.execute_reply": "2025-10-11T04:18:21.099652Z"
    },
    "jupyter": {
     "source_hidden": true
    },
    "scrolled": true
   },
   "outputs": [
    {
     "name": "stdout",
     "output_type": "stream",
     "text": [
      "INICIANDO ANÁLISE DE QUALIDADE PARA TODOS OS DATASETS...\n",
      "ANALISANDO ACCIDENTS...\n",
      "\n",
      "📊 Accidents - QUALITY ANALYSIS\n",
      "========================================\n"
     ]
    },
    {
     "name": "stdout",
     "output_type": "stream",
     "text": [
      "Total rows: 1,780,653\n",
      "Total columns: 20\n",
      "\n",
      "Accident_Index:\n"
     ]
    },
    {
     "name": "stdout",
     "output_type": "stream",
     "text": [
      "   ✅ NULL: 0\n",
      "   🏷️  Type: StringType()\n",
      "   📋 Samples: ['201301EK40520', '201301EK40521']\n",
      "\n",
      "Longitude:\n"
     ]
    },
    {
     "name": "stdout",
     "output_type": "stream",
     "text": [
      "   ⚠️  NULL: 138\n",
      "   🏷️  Type: DoubleType()\n",
      "   📋 Samples: ['-0.177694', '-0.158197']\n",
      "\n",
      "Latitude:\n"
     ]
    },
    {
     "name": "stdout",
     "output_type": "stream",
     "text": [
      "   ⚠️  NULL: 138\n",
      "   🏷️  Type: DoubleType()\n",
      "   📋 Samples: ['51.545271', '51.55306']\n",
      "\n",
      "Accident_Severity:\n"
     ]
    },
    {
     "name": "stdout",
     "output_type": "stream",
     "text": [
      "   ✅ NULL: 0\n",
      "   🏷️  Type: IntegerType()\n",
      "   📋 Samples: ['3', '3']\n",
      "\n",
      "Number_of_Vehicles:\n"
     ]
    },
    {
     "name": "stdout",
     "output_type": "stream",
     "text": [
      "   ✅ NULL: 0\n",
      "   🏷️  Type: IntegerType()\n",
      "   📋 Samples: ['2', '3']\n",
      "\n",
      "Number_of_Casualties:\n"
     ]
    },
    {
     "name": "stdout",
     "output_type": "stream",
     "text": [
      "   ✅ NULL: 0\n",
      "   🏷️  Type: IntegerType()\n",
      "   📋 Samples: ['1', '1']\n",
      "\n",
      "Date:\n"
     ]
    },
    {
     "name": "stdout",
     "output_type": "stream",
     "text": [
      "   ✅ NULL: 0\n",
      "   🏷️  Type: StringType()\n",
      "   📋 Samples: ['09/08/2013', '10/08/2013']\n",
      "\n",
      "Day_of_Week:\n"
     ]
    },
    {
     "name": "stdout",
     "output_type": "stream",
     "text": [
      "   ✅ NULL: 0\n",
      "   🏷️  Type: IntegerType()\n",
      "   📋 Samples: ['6', '7']\n",
      "\n",
      "Time:\n"
     ]
    },
    {
     "name": "stdout",
     "output_type": "stream",
     "text": [
      "   ⚠️  NULL: 151\n",
      "   🏷️  Type: TimestampType()\n",
      "   📋 Samples: ['2025-10-11 11:00:00', '2025-10-11 14:30:00']\n",
      "\n",
      "Road_Type:\n"
     ]
    },
    {
     "name": "stdout",
     "output_type": "stream",
     "text": [
      "   ✅ NULL: 0\n",
      "   🏷️  Type: IntegerType()\n",
      "   📋 Samples: ['3', '6']\n",
      "\n",
      "Speed_limit:\n"
     ]
    },
    {
     "name": "stdout",
     "output_type": "stream",
     "text": [
      "   ✅ NULL: 0\n",
      "   🏷️  Type: IntegerType()\n",
      "   📋 Samples: ['30', '30']\n",
      "\n",
      "Junction_Detail:\n"
     ]
    },
    {
     "name": "stdout",
     "output_type": "stream",
     "text": [
      "   ✅ NULL: 0\n",
      "   🏷️  Type: IntegerType()\n",
      "   📋 Samples: ['3', '6']\n",
      "\n",
      "Junction_Control:\n"
     ]
    },
    {
     "name": "stdout",
     "output_type": "stream",
     "text": [
      "   ✅ NULL: 0\n",
      "   🏷️  Type: IntegerType()\n",
      "   📋 Samples: ['4', '2']\n",
      "\n",
      "Pedestrian_Crossing-Physical_Facilities:\n"
     ]
    },
    {
     "name": "stdout",
     "output_type": "stream",
     "text": [
      "   ✅ NULL: 0\n",
      "   🏷️  Type: IntegerType()\n",
      "   📋 Samples: ['4', '5']\n",
      "\n",
      "Light_Conditions:\n"
     ]
    },
    {
     "name": "stdout",
     "output_type": "stream",
     "text": [
      "   ✅ NULL: 0\n",
      "   🏷️  Type: IntegerType()\n",
      "   📋 Samples: ['1', '1']\n",
      "\n",
      "Weather_Conditions:\n"
     ]
    },
    {
     "name": "stdout",
     "output_type": "stream",
     "text": [
      "   ✅ NULL: 0\n",
      "   🏷️  Type: IntegerType()\n",
      "   📋 Samples: ['1', '1']\n",
      "\n",
      "Road_Surface_Conditions:\n"
     ]
    },
    {
     "name": "stdout",
     "output_type": "stream",
     "text": [
      "   ✅ NULL: 0\n",
      "   🏷️  Type: IntegerType()\n",
      "   📋 Samples: ['1', '1']\n",
      "\n",
      "Special_Conditions_at_Site:\n"
     ]
    },
    {
     "name": "stdout",
     "output_type": "stream",
     "text": [
      "   ✅ NULL: 0\n",
      "   🏷️  Type: IntegerType()\n",
      "   📋 Samples: ['0', '0']\n",
      "\n",
      "Carriageway_Hazards:\n"
     ]
    },
    {
     "name": "stdout",
     "output_type": "stream",
     "text": [
      "   ✅ NULL: 0\n",
      "   🏷️  Type: IntegerType()\n",
      "   📋 Samples: ['0', '0']\n",
      "\n",
      "Urban_or_Rural_Area:\n"
     ]
    },
    {
     "name": "stdout",
     "output_type": "stream",
     "text": [
      "   ✅ NULL: 0\n",
      "   🏷️  Type: IntegerType()\n",
      "   📋 Samples: ['1', '1']\n",
      "\n",
      "📊 RESUMO:\n",
      "--------------------\n",
      "⚠️  Problemas encontrados: 3\n",
      "   • Longitude: 138 NULL\n",
      "   • Latitude: 138 NULL\n",
      "   • Time: 151 NULL\n",
      "\n",
      "ANALISANDO VEHICLES...\n",
      "\n",
      "📊 Vehicles - QUALITY ANALYSIS\n",
      "========================================\n"
     ]
    },
    {
     "name": "stdout",
     "output_type": "stream",
     "text": [
      "Total rows: 3,262,270\n",
      "Total columns: 11\n",
      "\n",
      "Accident_Index:\n",
      "   ✅ NULL: 0\n",
      "   🏷️  Type: StringType()\n"
     ]
    },
    {
     "name": "stdout",
     "output_type": "stream",
     "text": [
      "   📋 Samples: ['201101BS70342', '201101BS70342']\n",
      "\n",
      "Vehicle_Reference:\n",
      "   ✅ NULL: 0\n",
      "   🏷️  Type: IntegerType()\n"
     ]
    },
    {
     "name": "stdout",
     "output_type": "stream",
     "text": [
      "   📋 Samples: ['1', '2']\n",
      "\n",
      "Vehicle_Type:\n",
      "   ✅ NULL: 0\n",
      "   🏷️  Type: IntegerType()\n"
     ]
    },
    {
     "name": "stdout",
     "output_type": "stream",
     "text": [
      "   📋 Samples: ['9', '1']\n",
      "\n",
      "Vehicle_Manoeuvre:\n",
      "   ✅ NULL: 0\n",
      "   🏷️  Type: IntegerType()\n"
     ]
    },
    {
     "name": "stdout",
     "output_type": "stream",
     "text": [
      "   📋 Samples: ['2', '18']\n",
      "\n",
      "Vehicle_Location-Restricted_Lane:\n"
     ]
    },
    {
     "name": "stdout",
     "output_type": "stream",
     "text": [
      "   ✅ NULL: 0\n",
      "   🏷️  Type: IntegerType()\n",
      "   📋 Samples: ['0', '0']\n",
      "\n",
      "Was_Vehicle_Left_Hand_Drive?:\n"
     ]
    },
    {
     "name": "stdout",
     "output_type": "stream",
     "text": [
      "   ✅ NULL: 0\n",
      "   🏷️  Type: IntegerType()\n",
      "   📋 Samples: ['1', '1']\n",
      "\n",
      "Sex_of_Driver:\n"
     ]
    },
    {
     "name": "stdout",
     "output_type": "stream",
     "text": [
      "   ✅ NULL: 0\n",
      "   🏷️  Type: IntegerType()\n",
      "   📋 Samples: ['2', '2']\n",
      "\n",
      "Age_of_Driver:\n"
     ]
    },
    {
     "name": "stdout",
     "output_type": "stream",
     "text": [
      "   ✅ NULL: 0\n",
      "   🏷️  Type: IntegerType()\n",
      "   📋 Samples: ['-1', '25']\n",
      "\n",
      "Age_Band_of_Driver:\n"
     ]
    },
    {
     "name": "stdout",
     "output_type": "stream",
     "text": [
      "   ✅ NULL: 0\n",
      "   🏷️  Type: IntegerType()\n",
      "   📋 Samples: ['-1', '5']\n",
      "\n",
      "Propulsion_Code:\n"
     ]
    },
    {
     "name": "stdout",
     "output_type": "stream",
     "text": [
      "   ✅ NULL: 0\n",
      "   🏷️  Type: IntegerType()\n",
      "   📋 Samples: ['1', '-1']\n",
      "\n",
      "Age_of_Vehicle:\n"
     ]
    },
    {
     "name": "stdout",
     "output_type": "stream",
     "text": [
      "   ✅ NULL: 0\n",
      "   🏷️  Type: IntegerType()\n",
      "   📋 Samples: ['6', '-1']\n",
      "\n",
      "📊 RESUMO:\n",
      "--------------------\n",
      "🎉 Nenhum problema encontrado!\n",
      "\n",
      "ANALISANDO CASUALTIES...\n",
      "\n",
      "📊 Casualties - QUALITY ANALYSIS\n",
      "========================================\n"
     ]
    },
    {
     "name": "stdout",
     "output_type": "stream",
     "text": [
      "Total rows: 2,402,909\n",
      "Total columns: 12\n",
      "\n",
      "Accident_Index:\n",
      "   ✅ NULL: 0\n",
      "   🏷️  Type: StringType()\n"
     ]
    },
    {
     "name": "stdout",
     "output_type": "stream",
     "text": [
      "   📋 Samples: ['201304FB13047', '201304FB13047']\n",
      "\n",
      "Vehicle_Reference:\n"
     ]
    },
    {
     "name": "stdout",
     "output_type": "stream",
     "text": [
      "   ✅ NULL: 0\n",
      "   🏷️  Type: IntegerType()\n",
      "   📋 Samples: ['1', '1']\n",
      "\n",
      "Casualty_Reference:\n"
     ]
    },
    {
     "name": "stdout",
     "output_type": "stream",
     "text": [
      "   ✅ NULL: 0\n",
      "   🏷️  Type: IntegerType()\n",
      "   📋 Samples: ['3', '4']\n",
      "\n",
      "Casualty_Class:\n"
     ]
    },
    {
     "name": "stdout",
     "output_type": "stream",
     "text": [
      "   ✅ NULL: 0\n",
      "   🏷️  Type: IntegerType()\n",
      "   📋 Samples: ['2', '2']\n",
      "\n",
      "Sex_of_Casualty:\n"
     ]
    },
    {
     "name": "stdout",
     "output_type": "stream",
     "text": [
      "   ✅ NULL: 0\n",
      "   🏷️  Type: IntegerType()\n",
      "   📋 Samples: ['1', '1']\n",
      "\n",
      "Age_of_Casualty:\n"
     ]
    },
    {
     "name": "stdout",
     "output_type": "stream",
     "text": [
      "   ✅ NULL: 0\n",
      "   🏷️  Type: IntegerType()\n",
      "   📋 Samples: ['16', '16']\n",
      "\n",
      "Age_Band_of_Casualty:\n"
     ]
    },
    {
     "name": "stdout",
     "output_type": "stream",
     "text": [
      "   ✅ NULL: 0\n",
      "   🏷️  Type: IntegerType()\n",
      "   📋 Samples: ['4', '4']\n",
      "\n",
      "Casualty_Severity:\n"
     ]
    },
    {
     "name": "stdout",
     "output_type": "stream",
     "text": [
      "   ✅ NULL: 0\n",
      "   🏷️  Type: IntegerType()\n",
      "   📋 Samples: ['3', '3']\n",
      "\n",
      "Pedestrian_Movement:\n"
     ]
    },
    {
     "name": "stdout",
     "output_type": "stream",
     "text": [
      "   ✅ NULL: 0\n",
      "   🏷️  Type: IntegerType()\n",
      "   📋 Samples: ['0', '0']\n",
      "\n",
      "Car_Passenger:\n"
     ]
    },
    {
     "name": "stdout",
     "output_type": "stream",
     "text": [
      "   ✅ NULL: 0\n",
      "   🏷️  Type: IntegerType()\n",
      "   📋 Samples: ['2', '2']\n",
      "\n",
      "Bus_or_Coach_Passenger:\n"
     ]
    },
    {
     "name": "stdout",
     "output_type": "stream",
     "text": [
      "   ✅ NULL: 0\n",
      "   🏷️  Type: IntegerType()\n",
      "   📋 Samples: ['0', '0']\n",
      "\n",
      "Casualty_Type:\n"
     ]
    },
    {
     "name": "stdout",
     "output_type": "stream",
     "text": [
      "   ✅ NULL: 0\n",
      "   🏷️  Type: IntegerType()\n",
      "   📋 Samples: ['9', '9']\n",
      "\n",
      "📊 RESUMO:\n",
      "--------------------\n",
      "🎉 Nenhum problema encontrado!\n",
      "\n",
      "✅ ANÁLISE DE QUALIDADE CONCLUÍDA PARA TODOS OS DATASETS!\n"
     ]
    }
   ],
   "source": [
    "print(\"INICIANDO ANÁLISE DE QUALIDADE PARA TODOS OS DATASETS...\")\n",
    "\n",
    "def safe_quality_analysis(df, df_name):\n",
    "    print(f\"\\n📊 {df_name} - QUALITY ANALYSIS\")\n",
    "    print(\"=\" * 40)\n",
    "    \n",
    "    # Contagem básica\n",
    "    total_rows = df.count()\n",
    "    print(f\"Total rows: {total_rows:,}\")\n",
    "    print(f\"Total columns: {len(df.columns)}\")\n",
    "    \n",
    "    # Lista de problemas\n",
    "    problems = []\n",
    "    \n",
    "    # Verificar cada coluna\n",
    "    for col_name in df.columns:\n",
    "        print(f\"\\n{col_name}:\")\n",
    "        \n",
    "        try:\n",
    "            # NULL values\n",
    "            null_count = df.filter(F.col(col_name).isNull()).count()\n",
    "            if null_count > 0:\n",
    "                print(f\"   ⚠️  NULL: {null_count}\")\n",
    "                problems.append(f\"{col_name}: {null_count} NULL\")\n",
    "            else:\n",
    "                print(f\"   ✅ NULL: 0\")\n",
    "                \n",
    "            # Data type\n",
    "            dtype = df.schema[col_name].dataType\n",
    "            print(f\"   🏷️  Type: {dtype}\")\n",
    "            \n",
    "            # Amostra\n",
    "            samples = df.select(col_name).limit(2).collect()\n",
    "            sample_values = [str(row[col_name]) for row in samples]\n",
    "            print(f\"   📋 Samples: {sample_values}\")\n",
    "            \n",
    "        except Exception as e:\n",
    "            print(f\"   ❌ Erro ao analisar: {e}\")\n",
    "            problems.append(f\"{col_name}: ERRO - {e}\")\n",
    "    \n",
    "\n",
    "    print(f\"\\n📊 RESUMO:\")\n",
    "    print(\"-\" * 20)\n",
    "    if problems:\n",
    "        print(f\"⚠️  Problemas encontrados: {len(problems)}\")\n",
    "        for problem in problems:\n",
    "            print(f\"   • {problem}\")\n",
    "    else:\n",
    "        print(\"🎉 Nenhum problema encontrado!\")\n",
    "    \n",
    "    return problems\n",
    "\n",
    "# EXECUTAR PARA TODOS OS DATASETS\n",
    "print(\"ANALISANDO ACCIDENTS...\")\n",
    "problems_accidents = safe_quality_analysis(df_accidents, \"Accidents\")\n",
    "\n",
    "print(\"\\nANALISANDO VEHICLES...\")\n",
    "problems_vehicles = safe_quality_analysis(df_vehicles, \"Vehicles\")\n",
    "\n",
    "print(\"\\nANALISANDO CASUALTIES...\") \n",
    "problems_casualties = safe_quality_analysis(df_casualties, \"Casualties\")\n",
    "\n",
    "print(\"\\n✅ ANÁLISE DE QUALIDADE CONCLUÍDA PARA TODOS OS DATASETS!\")"
   ]
  },
  {
   "cell_type": "markdown",
   "id": "96392217",
   "metadata": {},
   "source": [
    "### Data Type Conversion"
   ]
  },
  {
   "cell_type": "code",
   "execution_count": 7,
   "id": "aaa2bde3-2c4c-470e-b854-dad4554b6ae3",
   "metadata": {
    "execution": {
     "iopub.execute_input": "2025-10-11T04:18:21.102559Z",
     "iopub.status.busy": "2025-10-11T04:18:21.102357Z",
     "iopub.status.idle": "2025-10-11T04:18:21.132714Z",
     "shell.execute_reply": "2025-10-11T04:18:21.131747Z"
    },
    "jupyter": {
     "source_hidden": true
    }
   },
   "outputs": [
    {
     "name": "stdout",
     "output_type": "stream",
     "text": [
      "✅ Date: String → DateType\n",
      "✅ Time: Timestamp → String (HH:mm)\n",
      "\n",
      "✅ CONVERSÃO CONCLUÍDA!\n"
     ]
    }
   ],
   "source": [
    "def convert_data_types_simple(df):   \n",
    "    df_converted = df\n",
    "    \n",
    "    # 1. CONVERTER DATE\n",
    "    if 'Date' in df.columns:\n",
    "        df_converted = df_converted.withColumn(\n",
    "            \"Date\", \n",
    "            F.to_date(F.col(\"Date\"), \"dd/MM/yyyy\")\n",
    "        )\n",
    "        print(\"✅ Date: String → DateType\")\n",
    "    \n",
    "    # 2. CONVERTER TIME (Timestamp → String no formato HH:mm)\n",
    "    if 'Time' in df.columns:\n",
    "        df_converted = df_converted.withColumn(\n",
    "            \"Time\",\n",
    "            F.date_format(F.col(\"Time\"), \"HH:mm\")\n",
    "        )\n",
    "        print(\"✅ Time: Timestamp → String (HH:mm)\")\n",
    "        \n",
    "    return df_converted\n",
    "\n",
    "df_accidents_converted = convert_data_types_simple(df_accidents)\n",
    "\n",
    "print(\"\\n✅ CONVERSÃO CONCLUÍDA!\")"
   ]
  },
  {
   "cell_type": "markdown",
   "id": "080cab74",
   "metadata": {},
   "source": [
    "### Missing Value Treatment"
   ]
  },
  {
   "cell_type": "code",
   "execution_count": 8,
   "id": "c1695037",
   "metadata": {
    "execution": {
     "iopub.execute_input": "2025-10-11T04:18:21.134968Z",
     "iopub.status.busy": "2025-10-11T04:18:21.134743Z",
     "iopub.status.idle": "2025-10-11T04:18:22.377771Z",
     "shell.execute_reply": "2025-10-11T04:18:22.376875Z"
    },
    "jupyter": {
     "source_hidden": true
    }
   },
   "outputs": [
    {
     "name": "stdout",
     "output_type": "stream",
     "text": [
      "✅ Removidas 289 linhas (0.0162%) com missing em colunas críticas\n",
      "📊 Antes: 1,780,653 linhas\n"
     ]
    },
    {
     "name": "stdout",
     "output_type": "stream",
     "text": [
      "📊 Depois: 1,780,364 linhas\n",
      "\n",
      "✅ TRATAMENTO DE MISSING CONCLUÍDO!\n"
     ]
    }
   ],
   "source": [
    "def treat_missing_values(df):    \n",
    "    original_count = df.count()\n",
    "    \n",
    "    # COLUNAS CRÍTICAS (se tiver missing, remove a linha)\n",
    "    critical_columns = ['Longitude', 'Latitude', 'Time']\n",
    "    \n",
    "    # Aplicar filtro para remover missing nas colunas críticas\n",
    "    condition = None\n",
    "    for col_name in critical_columns:\n",
    "        if col_name in df.columns:\n",
    "            if condition is None:\n",
    "                condition = F.col(col_name).isNotNull()\n",
    "            else:\n",
    "                condition = condition & F.col(col_name).isNotNull()\n",
    "    \n",
    "    if condition is not None:\n",
    "        df_clean = df.filter(condition)\n",
    "        removed_count = original_count - df_clean.count()\n",
    "        removed_pct = (removed_count / original_count) * 100\n",
    "        \n",
    "        print(f\"✅ Removidas {removed_count:,} linhas ({removed_pct:.4f}%) com missing em colunas críticas\")\n",
    "        print(f\"📊 Antes: {original_count:,} linhas\")\n",
    "        print(f\"📊 Depois: {df_clean.count():,} linhas\")\n",
    "    else:\n",
    "        df_clean = df\n",
    "        print(\"Nenhum missing encontrado nas colunas críticas\")\n",
    "    \n",
    "    return df_clean\n",
    "\n",
    "# EXECUTAR TRATAMENTO\n",
    "df_accidents_clean = treat_missing_values(df_accidents_converted)\n",
    "\n",
    "print(\"\\n✅ TRATAMENTO DE MISSING CONCLUÍDO!\")"
   ]
  },
  {
   "cell_type": "markdown",
   "id": "18fa45e9",
   "metadata": {},
   "source": [
    "### Referential Integrity Cleanup"
   ]
  },
  {
   "cell_type": "code",
   "execution_count": 9,
   "id": "eeb7a1db-25ee-48ef-8c2d-4805189ffbf9",
   "metadata": {
    "execution": {
     "iopub.execute_input": "2025-10-11T04:18:22.380248Z",
     "iopub.status.busy": "2025-10-11T04:18:22.380002Z",
     "iopub.status.idle": "2025-10-11T04:18:30.669802Z",
     "shell.execute_reply": "2025-10-11T04:18:30.668767Z"
    },
    "jupyter": {
     "source_hidden": true
    },
    "scrolled": true
   },
   "outputs": [
    {
     "name": "stdout",
     "output_type": "stream",
     "text": [
      "REMOVENDO DADOS ÓRFÃOS...\n",
      "📋 Sincronizando datasets...\n"
     ]
    },
    {
     "name": "stdout",
     "output_type": "stream",
     "text": [
      "✅ Veículos: 3,262,270 → 3,261,764 (removidos 506)\n",
      "✅ Vítimas: 2,402,909 → 2,402,551 (removidos 358)\n",
      "\n",
      "✅ INTEGRIDADE REFERENCIAL GARANTIDA!\n"
     ]
    }
   ],
   "source": [
    "def ensure_referential_integrity(accidents_df, vehicles_df, casualties_df):\n",
    "    \"\"\"Remove veículos e vítimas de acidentes excluídos\"\"\"\n",
    "    print(\"📋 Sincronizando datasets...\")\n",
    "    \n",
    "    # Lista de Accident_Index válidos (após limpeza)\n",
    "    valid_accidents = accidents_df.select(\"Accident_Index\").distinct()\n",
    "    \n",
    "    # Contagens antes\n",
    "    vehicles_before = vehicles_df.count()\n",
    "    casualties_before = casualties_df.count()\n",
    "    \n",
    "    # Filtrar veículos e vítimas para manter só os que têm acidentes válidos\n",
    "    vehicles_clean = vehicles_df.join(valid_accidents, \"Accident_Index\", \"inner\")\n",
    "    casualties_clean = casualties_df.join(valid_accidents, \"Accident_Index\", \"inner\")\n",
    "    \n",
    "    # Contagens depois\n",
    "    vehicles_after = vehicles_clean.count()\n",
    "    casualties_after = casualties_clean.count()\n",
    "    \n",
    "    # Estatísticas\n",
    "    vehicles_removed = vehicles_before - vehicles_after\n",
    "    casualties_removed = casualties_before - casualties_after\n",
    "    \n",
    "    print(f\"✅ Veículos: {vehicles_before:,} → {vehicles_after:,} (removidos {vehicles_removed:,})\")\n",
    "    print(f\"✅ Vítimas: {casualties_before:,} → {casualties_after:,} (removidos {casualties_removed:,})\")\n",
    "    \n",
    "    return vehicles_clean, casualties_clean\n",
    "\n",
    "# EXECUTAR LIMPEZA DE INTEGRIDADE\n",
    "print(\"REMOVENDO DADOS ÓRFÃOS...\")\n",
    "df_vehicles_clean, df_casualties_clean = ensure_referential_integrity(\n",
    "    df_accidents_clean, df_vehicles, df_casualties\n",
    ")\n",
    "\n",
    "print(\"\\n✅ INTEGRIDADE REFERENCIAL GARANTIDA!\")"
   ]
  },
  {
   "cell_type": "markdown",
   "id": "a69f83df",
   "metadata": {},
   "source": [
    "### Domain Validation "
   ]
  },
  {
   "cell_type": "code",
   "execution_count": 10,
   "id": "a50440e7-5864-4b00-ad59-3c41613490b4",
   "metadata": {
    "execution": {
     "iopub.execute_input": "2025-10-11T04:18:30.672920Z",
     "iopub.status.busy": "2025-10-11T04:18:30.672642Z",
     "iopub.status.idle": "2025-10-11T04:19:33.419321Z",
     "shell.execute_reply": "2025-10-11T04:19:33.418500Z"
    },
    "scrolled": true
   },
   "outputs": [
    {
     "name": "stdout",
     "output_type": "stream",
     "text": [
      "VALIDANDO ACCIDENTS...\n",
      "\n",
      " Accidents - COMPREHENSIVE DOMAIN VALIDATION\n",
      "==================================================\n"
     ]
    },
    {
     "name": "stdout",
     "output_type": "stream",
     "text": [
      "   ✅ Accident_Severity: Todos os 3 valores estão no domínio\n"
     ]
    },
    {
     "name": "stdout",
     "output_type": "stream",
     "text": [
      "   ✅ Day_of_Week: Todos os 7 valores estão no domínio\n"
     ]
    },
    {
     "name": "stdout",
     "output_type": "stream",
     "text": [
      "   ✅ Road_Type: Todos os 6 valores estão no domínio\n"
     ]
    },
    {
     "name": "stdout",
     "output_type": "stream",
     "text": [
      "   ✅ Speed_limit: Todos os 9 valores estão no domínio\n"
     ]
    },
    {
     "name": "stdout",
     "output_type": "stream",
     "text": [
      "   ✅ Junction_Detail: Todos os 10 valores estão no domínio\n"
     ]
    },
    {
     "name": "stdout",
     "output_type": "stream",
     "text": [
      "   ✅ Junction_Control: Todos os 6 valores estão no domínio\n"
     ]
    },
    {
     "name": "stdout",
     "output_type": "stream",
     "text": [
      "   ✅ Pedestrian_Crossing-Physical_Facilities: Todos os 7 valores estão no domínio\n"
     ]
    },
    {
     "name": "stdout",
     "output_type": "stream",
     "text": [
      "   ✅ Light_Conditions: Todos os 5 valores estão no domínio\n"
     ]
    },
    {
     "name": "stdout",
     "output_type": "stream",
     "text": [
      "   ✅ Weather_Conditions: Todos os 10 valores estão no domínio\n"
     ]
    },
    {
     "name": "stdout",
     "output_type": "stream",
     "text": [
      "   ✅ Road_Surface_Conditions: Todos os 6 valores estão no domínio\n"
     ]
    },
    {
     "name": "stdout",
     "output_type": "stream",
     "text": [
      "   ✅ Special_Conditions_at_Site: Todos os 9 valores estão no domínio\n"
     ]
    },
    {
     "name": "stdout",
     "output_type": "stream",
     "text": [
      "   ✅ Carriageway_Hazards: Todos os 7 valores estão no domínio\n"
     ]
    },
    {
     "name": "stdout",
     "output_type": "stream",
     "text": [
      "   ✅ Urban_or_Rural_Area: Todos os 3 valores estão no domínio\n",
      "\n",
      "📊 RESUMO DE VALIDAÇÃO:\n",
      "------------------------------\n",
      "Todos os domínios estão válidos!\n",
      "\n",
      "VALIDANDO VEHICLES...\n",
      "\n",
      " Vehicles - COMPREHENSIVE DOMAIN VALIDATION\n",
      "==================================================\n"
     ]
    },
    {
     "name": "stdout",
     "output_type": "stream",
     "text": [
      "   ✅ Vehicle_Type: Todos os 21 valores estão no domínio\n"
     ]
    },
    {
     "name": "stdout",
     "output_type": "stream",
     "text": [
      "   ✅ Vehicle_Manoeuvre: Todos os 19 valores estão no domínio\n"
     ]
    },
    {
     "name": "stdout",
     "output_type": "stream",
     "text": [
      "   ✅ Vehicle_Location-Restricted_Lane: Todos os 11 valores estão no domínio\n"
     ]
    },
    {
     "name": "stdout",
     "output_type": "stream",
     "text": [
      "   ✅ Sex_of_Driver: Todos os 4 valores estão no domínio\n"
     ]
    },
    {
     "name": "stdout",
     "output_type": "stream",
     "text": [
      "   ✅ Age_Band_of_Driver: Todos os 12 valores estão no domínio\n"
     ]
    },
    {
     "name": "stdout",
     "output_type": "stream",
     "text": [
      "   ✅ Propulsion_Code: Todos os 13 valores estão no domínio\n",
      "\n",
      "📊 RESUMO DE VALIDAÇÃO:\n",
      "------------------------------\n",
      "Todos os domínios estão válidos!\n",
      "\n",
      "VALIDANDO CASUALTIES...\n",
      "\n",
      " Casualties - COMPREHENSIVE DOMAIN VALIDATION\n",
      "==================================================\n"
     ]
    },
    {
     "name": "stdout",
     "output_type": "stream",
     "text": [
      "   ✅ Casualty_Class: Todos os 3 valores estão no domínio\n"
     ]
    },
    {
     "name": "stdout",
     "output_type": "stream",
     "text": [
      "   ✅ Sex_of_Casualty: Todos os 3 valores estão no domínio\n"
     ]
    },
    {
     "name": "stdout",
     "output_type": "stream",
     "text": [
      "   ✅ Age_Band_of_Casualty: Todos os 12 valores estão no domínio\n"
     ]
    },
    {
     "name": "stdout",
     "output_type": "stream",
     "text": [
      "   ✅ Casualty_Severity: Todos os 3 valores estão no domínio\n"
     ]
    },
    {
     "name": "stdout",
     "output_type": "stream",
     "text": [
      "   ✅ Pedestrian_Movement: Todos os 11 valores estão no domínio\n"
     ]
    },
    {
     "name": "stdout",
     "output_type": "stream",
     "text": [
      "   ✅ Car_Passenger: Todos os 4 valores estão no domínio\n"
     ]
    },
    {
     "name": "stdout",
     "output_type": "stream",
     "text": [
      "   ✅ Bus_or_Coach_Passenger: Todos os 6 valores estão no domínio\n"
     ]
    },
    {
     "name": "stdout",
     "output_type": "stream",
     "text": [
      "   ✅ Casualty_Type: Todos os 21 valores estão no domínio\n",
      "\n",
      "📊 RESUMO DE VALIDAÇÃO:\n",
      "------------------------------\n",
      "Todos os domínios estão válidos!\n",
      "\n",
      " VALIDAÇÃO COMPLETA DE DOMÍNIOS CONCLUÍDA!\n"
     ]
    }
   ],
   "source": [
    "def validate_all_domains(df, df_name):\n",
    "    \"\"\"Valida TODAS as colunas com códigos\"\"\"\n",
    "    print(f\"\\n {df_name} - COMPREHENSIVE DOMAIN VALIDATION\")\n",
    "    print(\"=\" * 50)\n",
    "    \n",
    "    issues = []\n",
    "    \n",
    "    validation_rules = {\n",
    "        # ACCIDENTS\n",
    "        'Accident_Severity': [1, 2, 3],\n",
    "        'Day_of_Week': [1, 2, 3, 4, 5, 6, 7],\n",
    "        'Road_Type': [1, 2, 3, 6, 7, 9, 12],\n",
    "        'Speed_limit': [0, 10, 15, 20, 30, 40, 50, 60, 70],\n",
    "        'Junction_Detail': [0, 1, 2, 3, 5, 6, 7, 8, 9, -1],\n",
    "        'Junction_Control': [0, 1, 2, 3, 4, -1],\n",
    "        'Pedestrian_Crossing-Physical_Facilities': [0, 1, 4, 5, 7, 8, -1],\n",
    "        'Light_Conditions': [1, 4, 5, 6, 7, -1],\n",
    "        'Weather_Conditions': [1, 2, 3, 4, 5, 6, 7, 8, 9, -1],\n",
    "        'Road_Surface_Conditions': [1, 2, 3, 4, 5, 6, 7, -1],\n",
    "        'Special_Conditions_at_Site': [0, 1, 2, 3, 4, 5, 6, 7, -1],\n",
    "        'Carriageway_Hazards': [0, 1, 2, 3, 4, 5, 6, 7, -1],\n",
    "        'Urban_or_Rural_Area': [1, 2, 3],\n",
    "        \n",
    "        # VEHICLES\n",
    "        'Vehicle_Type': list(range(1, 99)) + [-1],  # 1-98 + -1\n",
    "        'Vehicle_Manoeuvre': list(range(1, 19)) + [-1],\n",
    "        'Vehicle_Location-Restricted_Lane': [0, 1, 2, 3, 4, 5, 6, 7, 8, 9, 10, -1],\n",
    "        'Sex_of_Driver': [1, 2, 3, -1],\n",
    "        'Age_Band_of_Driver': list(range(1, 12)) + [-1],\n",
    "        'Propulsion_Code': list(range(1, 13)) + [-1],\n",
    "        \n",
    "        # CASUALTIES  \n",
    "        'Casualty_Class': [1, 2, 3],\n",
    "        'Sex_of_Casualty': [1, 2, 3, -1],\n",
    "        'Age_Band_of_Casualty': list(range(1, 12)) + [-1],\n",
    "        'Casualty_Severity': [1, 2, 3],\n",
    "        'Pedestrian_Movement': [0, 1, 2, 3, 4, 5, 6, 7, 8, 9, -1],\n",
    "        'Car_Passenger': [0, 1, 2, 9, -1],\n",
    "        'Bus_or_Coach_Passenger': [0, 1, 2, 3, 4, 9, -1],\n",
    "        'Casualty_Type': [0, 1, 2, 3, 4, 5, 8, 9, 10, 11, 16, 17, 18, 19, 20, 21, 22, 23, 90, 97, 98, -1]\n",
    "    }\n",
    "    \n",
    "    for col_name, valid_values in validation_rules.items():\n",
    "        if col_name in df.columns:\n",
    "            # Contar valores fora do domínio\n",
    "            invalid_count = df.filter(~F.col(col_name).isin(valid_values)).count()\n",
    "            \n",
    "            if invalid_count > 0:\n",
    "                # Pegar exemplos dos valores inválidos\n",
    "                invalid_samples = df.filter(~F.col(col_name).isin(valid_values)) \\\n",
    "                                  .select(col_name).distinct().limit(3).collect()\n",
    "                \n",
    "                samples = [row[col_name] for row in invalid_samples]\n",
    "                issues.append(f\"{col_name}: {invalid_count} inválidos - Ex: {samples}\")\n",
    "                print(f\"   {col_name}: {invalid_count} valores inválidos\")\n",
    "                print(f\"      Exemplos: {samples}\")\n",
    "            else:\n",
    "                print(f\"   ✅ {col_name}: Todos os {df.select(col_name).distinct().count()} valores estão no domínio\")\n",
    "    \n",
    "    print(f\"\\n📊 RESUMO DE VALIDAÇÃO:\")\n",
    "    print(\"-\" * 30)\n",
    "    if issues:\n",
    "        print(f\"⚠  Problemas encontrados: {len(issues)}\")\n",
    "        for issue in issues:\n",
    "            print(f\"   • {issue}\")\n",
    "    else:\n",
    "        print(\"Todos os domínios estão válidos!\")\n",
    "    \n",
    "    return issues\n",
    "\n",
    "# EXECUTAR VALIDAÇÃO COMPLETA\n",
    "print(\"VALIDANDO ACCIDENTS...\")\n",
    "issues_accidents = validate_all_domains(df_accidents_clean, \"Accidents\")\n",
    "\n",
    "print(\"\\nVALIDANDO VEHICLES...\")\n",
    "issues_vehicles = validate_all_domains(df_vehicles_clean, \"Vehicles\")\n",
    "\n",
    "print(\"\\nVALIDANDO CASUALTIES...\")\n",
    "issues_casualties = validate_all_domains(df_casualties_clean, \"Casualties\")\n",
    "\n",
    "print(\"\\n VALIDAÇÃO COMPLETA DE DOMÍNIOS CONCLUÍDA!\")"
   ]
  },
  {
   "cell_type": "code",
   "execution_count": 11,
   "id": "26b991aa",
   "metadata": {
    "execution": {
     "iopub.execute_input": "2025-10-11T04:19:33.421495Z",
     "iopub.status.busy": "2025-10-11T04:19:33.421274Z",
     "iopub.status.idle": "2025-10-11T04:19:33.525337Z",
     "shell.execute_reply": "2025-10-11T04:19:33.524423Z"
    }
   },
   "outputs": [],
   "source": [
    "# Renomear colunas para snake_case\n",
    "def rename_columns(df, rename_dict):\n",
    "    df_renamed = df\n",
    "    for col_name in df.columns:\n",
    "        df_renamed = df_renamed.withColumnRenamed(col_name, col_name.lower())\n",
    "\n",
    "    for old_name, new_name in rename_dict.items():\n",
    "        if old_name in df_renamed.columns:\n",
    "            df_renamed = df_renamed.withColumnRenamed(old_name, new_name)\n",
    "\n",
    "    return df_renamed\n",
    "\n",
    "renomear = {\"date\": \"accident_timestamp\", \"time\": \"accident_time\", \"pedestrian_crossing-physical_facilities\": \"pedestrian_crossing_physical_facilities\", \"was_vehicle_left_hand_drive?\": \"was_vehicle_left_hand_drive\", \"vehicle_location-restricted_lane\": \"vehicle_location_restricted_lane\"}\n",
    "df_accidents_clean = rename_columns(df_accidents_clean, renomear)\n",
    "df_vehicles_clean = rename_columns(df_vehicles_clean, renomear)\n",
    "df_casualties_clean = rename_columns(df_casualties_clean, renomear)\n",
    "\n"
   ]
  },
  {
   "cell_type": "code",
   "execution_count": 12,
   "id": "c40c6bad",
   "metadata": {
    "execution": {
     "iopub.execute_input": "2025-10-11T04:19:33.527781Z",
     "iopub.status.busy": "2025-10-11T04:19:33.527468Z",
     "iopub.status.idle": "2025-10-11T04:19:40.182896Z",
     "shell.execute_reply": "2025-10-11T04:19:40.182032Z"
    }
   },
   "outputs": [
    {
     "name": "stdout",
     "output_type": "stream",
     "text": [
      "Dataframe final: 2,402,551 linhas, 40 colunas\n",
      "root\n",
      " |-- accident_index: string (nullable = true)\n",
      " |-- vehicle_reference: integer (nullable = true)\n",
      " |-- longitude: double (nullable = true)\n",
      " |-- latitude: double (nullable = true)\n",
      " |-- accident_severity: integer (nullable = true)\n",
      " |-- number_of_vehicles: integer (nullable = true)\n",
      " |-- number_of_casualties: integer (nullable = true)\n",
      " |-- accident_timestamp: date (nullable = true)\n",
      " |-- day_of_week: integer (nullable = true)\n",
      " |-- accident_time: string (nullable = true)\n",
      " |-- road_type: integer (nullable = true)\n",
      " |-- speed_limit: integer (nullable = true)\n",
      " |-- junction_detail: integer (nullable = true)\n",
      " |-- junction_control: integer (nullable = true)\n",
      " |-- pedestrian_crossing_physical_facilities: integer (nullable = true)\n",
      " |-- light_conditions: integer (nullable = true)\n",
      " |-- weather_conditions: integer (nullable = true)\n",
      " |-- road_surface_conditions: integer (nullable = true)\n",
      " |-- special_conditions_at_site: integer (nullable = true)\n",
      " |-- carriageway_hazards: integer (nullable = true)\n",
      " |-- urban_or_rural_area: integer (nullable = true)\n",
      " |-- vehicle_type: integer (nullable = true)\n",
      " |-- vehicle_manoeuvre: integer (nullable = true)\n",
      " |-- vehicle_location_restricted_lane: integer (nullable = true)\n",
      " |-- was_vehicle_left_hand_drive: integer (nullable = true)\n",
      " |-- sex_of_driver: integer (nullable = true)\n",
      " |-- age_of_driver: integer (nullable = true)\n",
      " |-- age_band_of_driver: integer (nullable = true)\n",
      " |-- propulsion_code: integer (nullable = true)\n",
      " |-- age_of_vehicle: integer (nullable = true)\n",
      " |-- casualty_reference: integer (nullable = true)\n",
      " |-- casualty_class: integer (nullable = true)\n",
      " |-- sex_of_casualty: integer (nullable = true)\n",
      " |-- age_of_casualty: integer (nullable = true)\n",
      " |-- age_band_of_casualty: integer (nullable = true)\n",
      " |-- casualty_severity: integer (nullable = true)\n",
      " |-- pedestrian_movement: integer (nullable = true)\n",
      " |-- car_passenger: integer (nullable = true)\n",
      " |-- bus_or_coach_passenger: integer (nullable = true)\n",
      " |-- casualty_type: integer (nullable = true)\n",
      "\n"
     ]
    }
   ],
   "source": [
    "# Juntar os três dataframes usando Accident_Index como chave\n",
    "df_joined = df_accidents_clean \\\n",
    "    .join(df_vehicles_clean, on=\"Accident_Index\", how=\"inner\") \\\n",
    "    .join(df_casualties_clean, on=[\"Accident_Index\", \"Vehicle_Reference\"], how=\"inner\")\n",
    "\n",
    "print(f\"Dataframe final: {df_joined.count():,} linhas, {len(df_joined.columns)} colunas\")\n",
    "df_joined.printSchema()"
   ]
  },
  {
   "cell_type": "code",
   "execution_count": 13,
   "id": "edbfb96a",
   "metadata": {
    "execution": {
     "iopub.execute_input": "2025-10-11T04:19:40.185210Z",
     "iopub.status.busy": "2025-10-11T04:19:40.184973Z",
     "iopub.status.idle": "2025-10-11T04:20:14.168120Z",
     "shell.execute_reply": "2025-10-11T04:20:14.167245Z"
    }
   },
   "outputs": [
    {
     "name": "stdout",
     "output_type": "stream",
     "text": [
      "✅ Todos os dataframes foram salvos em Parquet!\n"
     ]
    }
   ],
   "source": [
    "df_accidents_clean.write.mode(\"overwrite\").parquet(os.path.join(FILE_TABELAS_DIR, \"accident\"))\n",
    "df_vehicles_clean.write.mode(\"overwrite\").parquet(os.path.join(FILE_TABELAS_DIR, \"vehicle\"))\n",
    "df_casualties_clean.write.mode(\"overwrite\").parquet(os.path.join(FILE_TABELAS_DIR, \"casualty\"))\n",
    "df_joined.write.mode(\"overwrite\").parquet(os.path.join(FILE_TABELAS_DIR, \"joined\"))\n",
    "\n",
    "print(\"✅ Todos os dataframes foram salvos em Parquet!\")"
   ]
  },
  {
   "cell_type": "code",
   "execution_count": 14,
   "id": "c0b9d29a",
   "metadata": {
    "execution": {
     "iopub.execute_input": "2025-10-11T04:20:14.170371Z",
     "iopub.status.busy": "2025-10-11T04:20:14.170149Z",
     "iopub.status.idle": "2025-10-11T04:22:23.103595Z",
     "shell.execute_reply": "2025-10-11T04:22:23.102684Z"
    }
   },
   "outputs": [
    {
     "name": "stdout",
     "output_type": "stream",
     "text": [
      "✅ Todos os dataframes foram salvos no banco de dados Postgres!\n"
     ]
    }
   ],
   "source": [
    "# Configurações do banco de dados Postgres\n",
    "postgres_url = \"jdbc:postgresql://db:5432/gis\"\n",
    "postgres_properties = {\n",
    "    \"user\": \"postgres\",\n",
    "    \"password\": \"postgres\",\n",
    "    \"driver\": \"org.postgresql.Driver\"\n",
    "}\n",
    "\n",
    "def lowercase_columns(df):\n",
    "    df_renamed = df\n",
    "    for col_name in df.columns:\n",
    "        df_renamed = df_renamed.withColumnRenamed(col_name, col_name.lower())\n",
    "    return df_renamed\n",
    "\n",
    "# Salvar os dataframes no Postgres\n",
    "df_joined.write.mode(\"overwrite\").jdbc(\n",
    "    url=postgres_url,\n",
    "    table=\"joined\",\n",
    "    properties=postgres_properties\n",
    ")\n",
    "\n",
    "df_casualties_clean.write.mode(\"overwrite\").jdbc(\n",
    "    url=postgres_url,\n",
    "    table=\"casualty\",\n",
    "    properties=postgres_properties\n",
    ")\n",
    "\n",
    "df_vehicles_clean.write.mode(\"overwrite\").jdbc(\n",
    "    url=postgres_url,\n",
    "    table=\"vehicle\",\n",
    "    properties=postgres_properties\n",
    ")\n",
    "\n",
    "\n",
    "df_accidents_clean.write.mode(\"overwrite\").jdbc(\n",
    "    url=postgres_url,\n",
    "    table=\"accident\",\n",
    "    properties=postgres_properties\n",
    ")\n",
    "\n",
    "\n",
    "print(\"✅ Todos os dataframes foram salvos no banco de dados Postgres!\")"
   ]
  },
  {
   "cell_type": "code",
   "execution_count": 15,
   "id": "693213b7",
   "metadata": {
    "execution": {
     "iopub.execute_input": "2025-10-11T04:22:23.105804Z",
     "iopub.status.busy": "2025-10-11T04:22:23.105588Z",
     "iopub.status.idle": "2025-10-11T04:22:24.050226Z",
     "shell.execute_reply": "2025-10-11T04:22:24.049438Z"
    }
   },
   "outputs": [
    {
     "data": {
      "image/png": "[encoded data removed]",
      "text/plain": [
       "<Figure size 640x480 with 1 Axes>"
      ]
     },
     "metadata": {},
     "output_type": "display_data"
    }
   ],
   "source": [
    "# Contar acidentes por severidade\n",
    "accident_severity = df_accidents_clean.groupBy(\"Accident_Severity\").count().orderBy(\"Accident_Severity\").toPandas()\n",
    "\n",
    "plt.bar(accident_severity[\"Accident_Severity\"], accident_severity[\"count\"])\n",
    "plt.xlabel(\"Severidade do Acidente\")\n",
    "plt.ylabel(\"Quantidade\")\n",
    "plt.title(\"Distribuição de Acidentes por Severidade\")\n",
    "plt.show()"
   ]
  }
 ],
 "metadata": {
  "kernelspec": {
   "display_name": ".venv",
   "language": "python",
   "name": "python3"
  },
  "language_info": {
   "codemirror_mode": {
    "name": "ipython",
    "version": 3
   },
   "file_extension": ".py",
   "mimetype": "text/x-python",
   "name": "python",
   "nbconvert_exporter": "python",
   "pygments_lexer": "ipython3",
   "version": "3.11.5"
  }
 },
 "nbformat": 4,
 "nbformat_minor": 5
}
